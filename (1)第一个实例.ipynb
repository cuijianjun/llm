{
 "cells": [
  {
   "attachments": {},
   "cell_type": "markdown",
   "metadata": {},
   "source": [
    "##### 环境搭建\n",
    "- 安装pyenv做本地环境管理\n",
    "- 将本地目录设置为需要的python版本\n",
    "- 安装Langchain包"
   ]
  },
  {
   "attachments": {},
   "cell_type": "markdown",
   "metadata": {},
   "source": [
    "##### 环境测试"
   ]
  },
  {
   "cell_type": "code",
   "execution_count": null,
   "metadata": {},
   "outputs": [],
   "source": [
    "print(\"hello world!34\")"
   ]
  },
  {
   "cell_type": "code",
   "execution_count": null,
   "metadata": {},
   "outputs": [],
   "source": [
    "! pip uninstall langchain -y\n",
    "! pip uninstall openai -y"
   ]
  },
  {
   "cell_type": "code",
   "execution_count": null,
   "metadata": {},
   "outputs": [],
   "source": [
    "! pip install --upgrade langchain==0.0.279 -i https://pypi.org/simple"
   ]
  },
  {
   "cell_type": "code",
   "execution_count": null,
   "metadata": {},
   "outputs": [],
   "source": [
    "#如果没有科学上网，可以用这个命令安装\n",
    "! pip install --upgrade langchain==0.0.279 -i https://pypi.tuna.tsinghua.edu.cn/simple"
   ]
  },
  {
   "attachments": {},
   "cell_type": "markdown",
   "metadata": {},
   "source": [
    "##### 依赖安装\n",
    "- 安装openai的api包\n",
    "- 或者使用Baichuan、ChatGLM这样的开源包"
   ]
  },
  {
   "attachments": {},
   "cell_type": "markdown",
   "metadata": {},
   "source": [
    "```\n",
    "pip install openai\n",
    "```"
   ]
  },
  {
   "cell_type": "code",
   "execution_count": null,
   "metadata": {},
   "outputs": [],
   "source": [
    "! pip install openai==v0.28.1 -i https://pypi.org/simple"
   ]
  },
  {
   "cell_type": "code",
   "execution_count": null,
   "metadata": {},
   "outputs": [],
   "source": [
    "! pip install --upgrade pip"
   ]
  },
  {
   "cell_type": "code",
   "execution_count": null,
   "metadata": {},
   "outputs": [],
   "source": [
    "#如果没有科学上网，可以使用这个命令安装\n",
    "! pip install openai==0.27.8 -i https://pypi.tuna.tsinghua.edu.cn/simple"
   ]
  },
  {
   "cell_type": "code",
   "execution_count": null,
   "metadata": {},
   "outputs": [],
   "source": [
    "! pip install langsmith>=0.1\n"
   ]
  },
  {
   "cell_type": "code",
   "execution_count": 7,
   "metadata": {},
   "outputs": [
    {
     "name": "stdout",
     "output_type": "stream",
     "text": [
      "Looking in indexes: https://pypi.tuna.tsinghua.edu.cn/simple\n",
      "Requirement already satisfied: qianfan in /home/psbc/.pyenv/versions/3.10.12/lib/python3.10/site-packages (0.3.14)\n",
      "Requirement already satisfied: langchain in /home/psbc/.pyenv/versions/3.10.12/lib/python3.10/site-packages (0.0.279)\n",
      "Requirement already satisfied: langchain_community in /home/psbc/.pyenv/versions/3.10.12/lib/python3.10/site-packages (0.0.20)\n",
      "Requirement already satisfied: aiohttp>=3.7.0 in /home/psbc/.pyenv/versions/3.10.12/lib/python3.10/site-packages (from qianfan) (3.9.5)\n",
      "Requirement already satisfied: aiolimiter>=1.1.0 in /home/psbc/.pyenv/versions/3.10.12/lib/python3.10/site-packages (from qianfan) (1.1.0)\n",
      "Requirement already satisfied: bce-python-sdk>=0.8.79 in /home/psbc/.pyenv/versions/3.10.12/lib/python3.10/site-packages (from qianfan) (0.9.11)\n",
      "Requirement already satisfied: diskcache<6.0.0,>=5.6.3 in /home/psbc/.pyenv/versions/3.10.12/lib/python3.10/site-packages (from qianfan) (5.6.3)\n",
      "Requirement already satisfied: multiprocess in /home/psbc/.pyenv/versions/3.10.12/lib/python3.10/site-packages (from qianfan) (0.70.16)\n",
      "Requirement already satisfied: prompt-toolkit>=3.0.38 in /home/psbc/.pyenv/versions/3.10.12/lib/python3.10/site-packages (from qianfan) (3.0.45)\n",
      "Requirement already satisfied: pydantic in /home/psbc/.pyenv/versions/3.10.12/lib/python3.10/site-packages (from qianfan) (1.10.15)\n",
      "Requirement already satisfied: python-dotenv>=1.0 in /home/psbc/.pyenv/versions/3.10.12/lib/python3.10/site-packages (from qianfan) (1.0.1)\n",
      "Requirement already satisfied: pyyaml<7.0.0,>=6.0.1 in /home/psbc/.pyenv/versions/3.10.12/lib/python3.10/site-packages (from qianfan) (6.0.1)\n",
      "Requirement already satisfied: requests>=2.24 in /home/psbc/.pyenv/versions/3.10.12/lib/python3.10/site-packages (from qianfan) (2.32.2)\n",
      "Requirement already satisfied: rich>=13.0.0 in /home/psbc/.pyenv/versions/3.10.12/lib/python3.10/site-packages (from qianfan) (13.7.1)\n",
      "Requirement already satisfied: tenacity<9.0.0,>=8.2.3 in /home/psbc/.pyenv/versions/3.10.12/lib/python3.10/site-packages (from qianfan) (8.3.0)\n",
      "Requirement already satisfied: typer>=0.9.0 in /home/psbc/.pyenv/versions/3.10.12/lib/python3.10/site-packages (from qianfan) (0.12.3)\n",
      "Requirement already satisfied: SQLAlchemy<3,>=1.4 in /home/psbc/.pyenv/versions/3.10.12/lib/python3.10/site-packages (from langchain) (2.0.30)\n",
      "Requirement already satisfied: async-timeout<5.0.0,>=4.0.0 in /home/psbc/.pyenv/versions/3.10.12/lib/python3.10/site-packages (from langchain) (4.0.3)\n",
      "Requirement already satisfied: dataclasses-json<0.6.0,>=0.5.7 in /home/psbc/.pyenv/versions/3.10.12/lib/python3.10/site-packages (from langchain) (0.5.14)\n",
      "Requirement already satisfied: langsmith<0.1.0,>=0.0.21 in /home/psbc/.pyenv/versions/3.10.12/lib/python3.10/site-packages (from langchain) (0.0.87)\n",
      "Requirement already satisfied: numexpr<3.0.0,>=2.8.4 in /home/psbc/.pyenv/versions/3.10.12/lib/python3.10/site-packages (from langchain) (2.10.0)\n",
      "Requirement already satisfied: numpy<2,>=1 in /home/psbc/.pyenv/versions/3.10.12/lib/python3.10/site-packages (from langchain) (1.26.4)\n",
      "Requirement already satisfied: langchain-core<0.2,>=0.1.21 in /home/psbc/.pyenv/versions/3.10.12/lib/python3.10/site-packages (from langchain_community) (0.1.23)\n",
      "Requirement already satisfied: aiosignal>=1.1.2 in /home/psbc/.pyenv/versions/3.10.12/lib/python3.10/site-packages (from aiohttp>=3.7.0->qianfan) (1.3.1)\n",
      "Requirement already satisfied: attrs>=17.3.0 in /home/psbc/.pyenv/versions/3.10.12/lib/python3.10/site-packages (from aiohttp>=3.7.0->qianfan) (23.2.0)\n",
      "Requirement already satisfied: frozenlist>=1.1.1 in /home/psbc/.pyenv/versions/3.10.12/lib/python3.10/site-packages (from aiohttp>=3.7.0->qianfan) (1.4.1)\n",
      "Requirement already satisfied: multidict<7.0,>=4.5 in /home/psbc/.pyenv/versions/3.10.12/lib/python3.10/site-packages (from aiohttp>=3.7.0->qianfan) (6.0.5)\n",
      "Requirement already satisfied: yarl<2.0,>=1.0 in /home/psbc/.pyenv/versions/3.10.12/lib/python3.10/site-packages (from aiohttp>=3.7.0->qianfan) (1.9.4)\n",
      "Requirement already satisfied: pycryptodome>=3.8.0 in /home/psbc/.pyenv/versions/3.10.12/lib/python3.10/site-packages (from bce-python-sdk>=0.8.79->qianfan) (3.20.0)\n",
      "Requirement already satisfied: future>=0.6.0 in /home/psbc/.pyenv/versions/3.10.12/lib/python3.10/site-packages (from bce-python-sdk>=0.8.79->qianfan) (1.0.0)\n",
      "Requirement already satisfied: six>=1.4.0 in /home/psbc/.pyenv/versions/3.10.12/lib/python3.10/site-packages (from bce-python-sdk>=0.8.79->qianfan) (1.16.0)\n",
      "Requirement already satisfied: marshmallow<4.0.0,>=3.18.0 in /home/psbc/.pyenv/versions/3.10.12/lib/python3.10/site-packages (from dataclasses-json<0.6.0,>=0.5.7->langchain) (3.21.2)\n",
      "Requirement already satisfied: typing-inspect<1,>=0.4.0 in /home/psbc/.pyenv/versions/3.10.12/lib/python3.10/site-packages (from dataclasses-json<0.6.0,>=0.5.7->langchain) (0.9.0)\n",
      "Requirement already satisfied: anyio<5,>=3 in /home/psbc/.pyenv/versions/3.10.12/lib/python3.10/site-packages (from langchain-core<0.2,>=0.1.21->langchain_community) (4.4.0)\n",
      "Requirement already satisfied: jsonpatch<2.0,>=1.33 in /home/psbc/.pyenv/versions/3.10.12/lib/python3.10/site-packages (from langchain-core<0.2,>=0.1.21->langchain_community) (1.33)\n",
      "Requirement already satisfied: packaging<24.0,>=23.2 in /home/psbc/.pyenv/versions/3.10.12/lib/python3.10/site-packages (from langchain-core<0.2,>=0.1.21->langchain_community) (23.2)\n",
      "Requirement already satisfied: wcwidth in /home/psbc/.pyenv/versions/3.10.12/lib/python3.10/site-packages (from prompt-toolkit>=3.0.38->qianfan) (0.2.13)\n",
      "Requirement already satisfied: typing-extensions>=4.2.0 in /home/psbc/.pyenv/versions/3.10.12/lib/python3.10/site-packages (from pydantic->qianfan) (4.12.0)\n",
      "Requirement already satisfied: charset-normalizer<4,>=2 in /home/psbc/.pyenv/versions/3.10.12/lib/python3.10/site-packages (from requests>=2.24->qianfan) (3.3.2)\n",
      "Requirement already satisfied: idna<4,>=2.5 in /home/psbc/.pyenv/versions/3.10.12/lib/python3.10/site-packages (from requests>=2.24->qianfan) (3.7)\n",
      "Requirement already satisfied: urllib3<3,>=1.21.1 in /home/psbc/.pyenv/versions/3.10.12/lib/python3.10/site-packages (from requests>=2.24->qianfan) (2.2.1)\n",
      "Requirement already satisfied: certifi>=2017.4.17 in /home/psbc/.pyenv/versions/3.10.12/lib/python3.10/site-packages (from requests>=2.24->qianfan) (2024.2.2)\n",
      "Requirement already satisfied: markdown-it-py>=2.2.0 in /home/psbc/.pyenv/versions/3.10.12/lib/python3.10/site-packages (from rich>=13.0.0->qianfan) (3.0.0)\n",
      "Requirement already satisfied: pygments<3.0.0,>=2.13.0 in /home/psbc/.pyenv/versions/3.10.12/lib/python3.10/site-packages (from rich>=13.0.0->qianfan) (2.18.0)\n",
      "Requirement already satisfied: greenlet!=0.4.17 in /home/psbc/.pyenv/versions/3.10.12/lib/python3.10/site-packages (from SQLAlchemy<3,>=1.4->langchain) (3.0.3)\n",
      "Requirement already satisfied: click>=8.0.0 in /home/psbc/.pyenv/versions/3.10.12/lib/python3.10/site-packages (from typer>=0.9.0->qianfan) (8.1.7)\n",
      "Requirement already satisfied: shellingham>=1.3.0 in /home/psbc/.pyenv/versions/3.10.12/lib/python3.10/site-packages (from typer>=0.9.0->qianfan) (1.5.4)\n",
      "Requirement already satisfied: dill>=0.3.8 in /home/psbc/.pyenv/versions/3.10.12/lib/python3.10/site-packages (from multiprocess->qianfan) (0.3.8)\n",
      "Requirement already satisfied: sniffio>=1.1 in /home/psbc/.pyenv/versions/3.10.12/lib/python3.10/site-packages (from anyio<5,>=3->langchain-core<0.2,>=0.1.21->langchain_community) (1.3.1)\n",
      "Requirement already satisfied: exceptiongroup>=1.0.2 in /home/psbc/.pyenv/versions/3.10.12/lib/python3.10/site-packages (from anyio<5,>=3->langchain-core<0.2,>=0.1.21->langchain_community) (1.2.1)\n",
      "Requirement already satisfied: jsonpointer>=1.9 in /home/psbc/.pyenv/versions/3.10.12/lib/python3.10/site-packages (from jsonpatch<2.0,>=1.33->langchain-core<0.2,>=0.1.21->langchain_community) (2.4)\n",
      "Requirement already satisfied: mdurl~=0.1 in /home/psbc/.pyenv/versions/3.10.12/lib/python3.10/site-packages (from markdown-it-py>=2.2.0->rich>=13.0.0->qianfan) (0.1.2)\n",
      "Requirement already satisfied: mypy-extensions>=0.3.0 in /home/psbc/.pyenv/versions/3.10.12/lib/python3.10/site-packages (from typing-inspect<1,>=0.4.0->dataclasses-json<0.6.0,>=0.5.7->langchain) (1.0.0)\n"
     ]
    }
   ],
   "source": [
    "! pip install qianfan langchain langchain_community -i https://pypi.tuna.tsinghua.edu.cn/simple"
   ]
  },
  {
   "cell_type": "code",
   "execution_count": 8,
   "metadata": {},
   "outputs": [],
   "source": [
    "# utf-8\n",
    "\"\"\"For basic init and call\"\"\"\n",
    "import os\n",
    "\n",
    "from langchain_community.chat_models import QianfanChatEndpoint\n",
    "from langchain_core.language_models.chat_models import HumanMessage\n",
    "\n",
    "os.environ[\"QIANFAN_AK\"] = \"zxgxhN3QtqW2YyLn5cKfJRfs\"\n",
    "os.environ[\"QIANFAN_SK\"] = \"HLjJIG9iMK6In6GBbM9g7lRxtwIZ5hzQ\""
   ]
  },
  {
   "cell_type": "code",
   "execution_count": 9,
   "metadata": {},
   "outputs": [
    {
     "name": "stderr",
     "output_type": "stream",
     "text": [
      "[INFO] [06-04 16:45:24] oauth.py:228 [t:547866411024]: trying to refresh access_token for ak `zxgxhN***`\n",
      "[INFO] [06-04 16:45:25] oauth.py:243 [t:547866411024]: sucessfully refresh access_token\n"
     ]
    },
    {
     "data": {
      "text/plain": [
       "AIMessage(content='您好！有什么我可以帮助您的吗？')"
      ]
     },
     "execution_count": 9,
     "metadata": {},
     "output_type": "execute_result"
    }
   ],
   "source": [
    "chat = QianfanChatEndpoint(streaming=True)\n",
    "messages = [HumanMessage(content=\"Hello\")]\n",
    "chat.invoke(messages)\n",
    "# await chat.ainvoke(messages)"
   ]
  },
  {
   "cell_type": "code",
   "execution_count": 10,
   "metadata": {},
   "outputs": [
    {
     "name": "stdout",
     "output_type": "stream",
     "text": [
      "您好，您有什么需要我帮助的吗？\n"
     ]
    }
   ],
   "source": [
    "try:\n",
    "    for chunk in chat.stream(messages):\n",
    "        print(chunk.content, end=\"\", flush=True)\n",
    "except TypeError as e:\n",
    "    print(\"\")"
   ]
  },
  {
   "cell_type": "code",
   "execution_count": 11,
   "metadata": {},
   "outputs": [
    {
     "data": {
      "text/plain": [
       "AIMessage(content='您好！有什么我可以帮助您的吗？')"
      ]
     },
     "execution_count": 11,
     "metadata": {},
     "output_type": "execute_result"
    }
   ],
   "source": [
    "await chat.ainvoke(messages)"
   ]
  },
  {
   "cell_type": "code",
   "execution_count": null,
   "metadata": {},
   "outputs": [],
   "source": [
    "from langchain_wenxin import Wenxin\n",
    "\n",
    "WENXIN_APP_Key = \"zxgxhN3QtqW2YyLn5cKfJRfs\"\n",
    "WENXIN_APP_SECRET = \"HLjJIG9iMK6In6GBbM9g7lRxtwIZ5hzQ\"\n",
    "\n",
    "llm = Wenxin(\n",
    "    temperature=0.9,\n",
    "    model=\"ernie-bot-turbo\",\n",
    "    baidu_api_key = WENXIN_APP_Key,\n",
    "    baidu_secret_key = WENXIN_APP_SECRET,\n",
    "    verbose=True,\n",
    ")\n",
    "\n",
    "response = llm(\"帮我写代码\")\n",
    "print(response)"
   ]
  },
  {
   "attachments": {},
   "cell_type": "markdown",
   "metadata": {},
   "source": [
    "##### 引入openai key"
   ]
  },
  {
   "cell_type": "code",
   "execution_count": null,
   "metadata": {},
   "outputs": [],
   "source": [
    "import os\n",
    "os.environ[\"OPENAI_KEY\"] = \"sk-ss\"\n",
    "os.environ[\"OPENAI_API_BASE\"] = \"https://ai-yyds.com/v1\""
   ]
  },
  {
   "attachments": {},
   "cell_type": "markdown",
   "metadata": {},
   "source": [
    "##### 从环境变量中读取"
   ]
  },
  {
   "cell_type": "code",
   "execution_count": null,
   "metadata": {},
   "outputs": [],
   "source": [
    "import os\n",
    "openai_api_key = os.getenv(\"OPENAI_KEY\")\n",
    "openai_api_base = os.getenv(\"OPENAI_API_BASE\")\n",
    "print(\"OPENAI_API_KEY:\", openai_api_key)\n",
    "print(\"OPENAI_PROXY:\", openai_api_base)"
   ]
  },
  {
   "cell_type": "markdown",
   "metadata": {},
   "source": [
    "#### 运行前查看下安装情况"
   ]
  },
  {
   "cell_type": "code",
   "execution_count": null,
   "metadata": {},
   "outputs": [],
   "source": [
    "! pip show langchain\n",
    "! pip show openai"
   ]
  },
  {
   "cell_type": "markdown",
   "metadata": {},
   "source": [
    "### openai 官方SDK"
   ]
  },
  {
   "cell_type": "code",
   "execution_count": null,
   "metadata": {},
   "outputs": [],
   "source": [
    "#使用openai的官方sdk\n",
    "import openai\n",
    "import os\n",
    "\n",
    "openai.api_base = os.getenv(\"OPENAI_API_BASE\")\n",
    "openai.api_key = os.getenv(\"OPENAI_KEY\")\n",
    "\n",
    "messages = [\n",
    "{\"role\": \"user\", \"content\": \"介绍下你自己\"}\n",
    "]\n",
    "\n",
    "res = openai.ChatCompletion.create(\n",
    "model=\"gpt-4-1106-preview\",\n",
    "messages=messages,\n",
    "stream=False,\n",
    ")\n",
    "\n",
    "print(res['choices'][0]['message']['content'])"
   ]
  },
  {
   "cell_type": "markdown",
   "metadata": {},
   "source": [
    "### 使用langchain调用"
   ]
  },
  {
   "cell_type": "code",
   "execution_count": null,
   "metadata": {},
   "outputs": [],
   "source": [
    "#hello world\n",
    "from langchain.llms import OpenAI\n",
    "import os\n",
    "\n",
    "api_base = os.getenv(\"OPENAI_API_BASE\")\n",
    "api_key = os.getenv(\"OPENAI_KEY\")\n",
    "llm = OpenAI(\n",
    "    model=\"gpt-3.5-turbo-instruct\",\n",
    "    temperature=0,\n",
    "    openai_api_key=api_key,\n",
    "    openai_api_base=api_base\n",
    "    )\n",
    "llm.predict(\"介绍下你自己\")"
   ]
  },
  {
   "cell_type": "markdown",
   "metadata": {},
   "source": [
    "##### 起名大师"
   ]
  },
  {
   "cell_type": "code",
   "execution_count": null,
   "metadata": {},
   "outputs": [],
   "source": [
    "#起名大师\n",
    "from langchain.llms import OpenAI\n",
    "from langchain.prompts import PromptTemplate\n",
    "import os\n",
    "api_base = os.getenv(\"OPENAI_API_BASE\")\n",
    "api_key = os.getenv(\"OPENAI_KEY\")\n",
    "llm = OpenAI(\n",
    "    model=\"gpt-3.5-turbo-instruct\",\n",
    "    temperature=0,\n",
    "    openai_api_key=api_key,\n",
    "    openai_api_base=api_base\n",
    "    )\n",
    "prompt = PromptTemplate.from_template(\"你是一个起名大师,请模仿示例起3个{county}名字,比如男孩经常被叫做{boy},女孩经常被叫做{girl}\")\n",
    "message = prompt.format(county=\"中国特色的\",boy=\"狗蛋\",girl=\"翠花\")\n",
    "print(message)\n",
    "llm.predict(message)"
   ]
  },
  {
   "cell_type": "markdown",
   "metadata": {},
   "source": [
    "##### 格式化输出"
   ]
  },
  {
   "cell_type": "code",
   "execution_count": null,
   "metadata": {},
   "outputs": [],
   "source": [
    "from langchain.schema import BaseOutputParser\n",
    "#自定义class，继承了BaseOutputParser\n",
    "class CommaSeparatedListOutputParser(BaseOutputParser):\n",
    "    \"\"\"Parse the output of an LLM call to a comma-separated list.\"\"\"\n",
    "\n",
    "\n",
    "    def parse(self, text: str):\n",
    "        \"\"\"Parse the output of an LLM call.\"\"\"\n",
    "        return text.strip().split(\", \")\n",
    "\n",
    "CommaSeparatedListOutputParser().parse(\"hi, bye\")"
   ]
  },
  {
   "cell_type": "code",
   "execution_count": null,
   "metadata": {},
   "outputs": [],
   "source": [
    "#起名大师，输出格式为一个数组\n",
    "from langchain.llms import OpenAI\n",
    "from langchain.prompts import PromptTemplate\n",
    "import os\n",
    "from langchain.schema import BaseOutputParser\n",
    "\n",
    "#自定义类\n",
    "class CommaSeparatedListOutputParser(BaseOutputParser):\n",
    "    \"\"\"Parse the output of an LLM call to a comma-separated list.\"\"\"\n",
    "\n",
    "    def parse(self, text: str):\n",
    "        \"\"\"Parse the output of an LLM call.\"\"\"\n",
    "        print(text)\n",
    "        return text.strip().split(\",\")\n",
    "\n",
    "\n",
    "api_base = os.getenv(\"OPENAI_API_BASE\")\n",
    "api_key = os.getenv(\"OPENAI_KEY\")\n",
    "llm = OpenAI(\n",
    "    model=\"gpt-3.5-turbo-instruct\",\n",
    "    temperature=0,\n",
    "    openai_api_key=api_key,\n",
    "    openai_api_base=api_base\n",
    "    )\n",
    "prompt = PromptTemplate.from_template(\"你是一个起名大师,请模仿示例起3个具有{county}特色的名字,示例：男孩常用名{boy},女孩常用名{girl}。请返回以逗号分隔的列表形式。仅返回逗号分隔的列表，不要返回其他内容。\")\n",
    "message = prompt.format(county=\"美国男孩\",boy=\"sam\",girl=\"lucy\")\n",
    "print(message)\n",
    "strs = llm.predict(message)\n",
    "CommaSeparatedListOutputParser().parse(strs)"
   ]
  },
  {
   "cell_type": "code",
   "execution_count": null,
   "metadata": {},
   "outputs": [],
   "source": [
    "# encoding:utf-8\n",
    "import requests \n",
    "\n",
    "# 接口地址\n",
    "url = \"https://api.map.baidu.com/geocoding/v3\"\n",
    "\n",
    "# 此处填写你在控制台-应用管理-创建应用后获取的AK\n",
    "ak = \"VRfGHhpMKqJZnzPsGKO2SNti7wELtPVS\"\n",
    "\n",
    "params = {\n",
    "    \"address\":    \"北京市海淀区上地十街10号\",\n",
    "    \"output\":    \"json\",\n",
    "    \"ak\":       ak,\n",
    "\n",
    "}\n",
    "\n",
    "response = requests.get(url=url, params=params)\n",
    "if response:\n",
    "    print(response.json())"
   ]
  }
 ],
 "metadata": {
  "kernelspec": {
   "display_name": "Python 3",
   "language": "python",
   "name": "python3"
  },
  "language_info": {
   "codemirror_mode": {
    "name": "ipython",
    "version": 3
   },
   "file_extension": ".py",
   "mimetype": "text/x-python",
   "name": "python",
   "nbconvert_exporter": "python",
   "pygments_lexer": "ipython3",
   "version": "3.10.12"
  },
  "orig_nbformat": 4
 },
 "nbformat": 4,
 "nbformat_minor": 2
}
