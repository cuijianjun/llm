{
 "cells": [
  {
   "cell_type": "code",
   "execution_count": 1,
   "metadata": {},
   "outputs": [
    {
     "name": "stdout",
     "output_type": "stream",
     "text": [
      "Collecting bitsandbytes\n",
      "  Downloading bitsandbytes-0.42.0-py3-none-any.whl.metadata (9.9 kB)\n",
      "Collecting scipy (from bitsandbytes)\n",
      "  Downloading scipy-1.13.1-cp310-cp310-manylinux_2_17_aarch64.manylinux2014_aarch64.whl.metadata (113 kB)\n",
      "\u001b[2K     \u001b[90m━━━━━━━━━━━━━━━━━━━━━━━━━━━━━━━━━━━━━\u001b[0m \u001b[32m113.1/113.1 kB\u001b[0m \u001b[31m131.6 kB/s\u001b[0m eta \u001b[36m0:00:00\u001b[0m00:01\u001b[0m00:01\u001b[0m\n",
      "\u001b[?25hRequirement already satisfied: numpy<2.3,>=1.22.4 in /home/psbc/.pyenv/versions/3.10.12/lib/python3.10/site-packages (from scipy->bitsandbytes) (1.26.4)\n",
      "Downloading bitsandbytes-0.42.0-py3-none-any.whl (105.0 MB)\n",
      "\u001b[2K   \u001b[91m╸\u001b[0m\u001b[90m━━━━━━━━━━━━━━━━━━━━━━━━━━━━━━━━━━━━━━━\u001b[0m \u001b[32m2.0/105.0 MB\u001b[0m \u001b[31m10.2 kB/s\u001b[0m eta \u001b[36m2:49:08\u001b[0m"
     ]
    }
   ],
   "source": [
    "pip install bitsandbytes"
   ]
  },
  {
   "cell_type": "code",
   "execution_count": 1,
   "metadata": {},
   "outputs": [
    {
     "name": "stdout",
     "output_type": "stream",
     "text": [
      "pip 24.0 from /home/psbc/.pyenv/versions/3.10.12/lib/python3.10/site-packages/pip (python 3.10)\n",
      "Note: you may need to restart the kernel to use updated packages.\n"
     ]
    }
   ],
   "source": [
    "pip --version "
   ]
  },
  {
   "cell_type": "code",
   "execution_count": null,
   "metadata": {},
   "outputs": [],
   "source": [
    "pip install ipykernel -i https://mirrors.aliyun.com/pypi/simple\n"
   ]
  },
  {
   "cell_type": "code",
   "execution_count": 13,
   "metadata": {},
   "outputs": [
    {
     "name": "stdout",
     "output_type": "stream",
     "text": [
      "Requirement already satisfied: pip in /home/psbc/.pyenv/versions/3.10.12/lib/python3.10/site-packages (24.0)\n",
      "Note: you may need to restart the kernel to use updated packages.\n"
     ]
    }
   ],
   "source": [
    "pip install --upgrade pip"
   ]
  },
  {
   "cell_type": "code",
   "execution_count": 12,
   "metadata": {},
   "outputs": [
    {
     "name": "stdout",
     "output_type": "stream",
     "text": [
      "Looking in indexes: https://pypi.org.simple\n",
      "\u001b[33mWARNING: Retrying (Retry(total=4, connect=None, read=None, redirect=None, status=None)) after connection broken by 'NewConnectionError('<pip._vendor.urllib3.connection.HTTPSConnection object at 0x7fa6745f60>: Failed to establish a new connection: [Errno -2] 未知的名称或服务')': /openai/\u001b[0m\u001b[33m\n",
      "\u001b[0m\u001b[33mWARNING: Retrying (Retry(total=3, connect=None, read=None, redirect=None, status=None)) after connection broken by 'NewConnectionError('<pip._vendor.urllib3.connection.HTTPSConnection object at 0x7fa6746110>: Failed to establish a new connection: [Errno -2] 未知的名称或服务')': /openai/\u001b[0m\u001b[33m\n",
      "\u001b[0m\u001b[33mWARNING: Retrying (Retry(total=2, connect=None, read=None, redirect=None, status=None)) after connection broken by 'NewConnectionError('<pip._vendor.urllib3.connection.HTTPSConnection object at 0x7fa6746410>: Failed to establish a new connection: [Errno -2] 未知的名称或服务')': /openai/\u001b[0m\u001b[33m\n",
      "\u001b[0m\u001b[33mWARNING: Retrying (Retry(total=1, connect=None, read=None, redirect=None, status=None)) after connection broken by 'NewConnectionError('<pip._vendor.urllib3.connection.HTTPSConnection object at 0x7fa67465c0>: Failed to establish a new connection: [Errno -2] 未知的名称或服务')': /openai/\u001b[0m\u001b[33m\n",
      "\u001b[0m\u001b[33mWARNING: Retrying (Retry(total=0, connect=None, read=None, redirect=None, status=None)) after connection broken by 'NewConnectionError('<pip._vendor.urllib3.connection.HTTPSConnection object at 0x7fa6746770>: Failed to establish a new connection: [Errno -2] 未知的名称或服务')': /openai/\u001b[0m\u001b[33m\n",
      "\u001b[0m\u001b[31mERROR: Could not find a version that satisfies the requirement openai==v0.28.1 (from versions: none)\u001b[0m\u001b[31m\n",
      "\u001b[0m\u001b[31mERROR: No matching distribution found for openai==v0.28.1\u001b[0m\u001b[31m\n",
      "\u001b[0mNote: you may need to restart the kernel to use updated packages.\n"
     ]
    }
   ],
   "source": [
    "pip install openai==v0.28.1 -i https://pypi.org.simple"
   ]
  },
  {
   "cell_type": "code",
   "execution_count": 4,
   "metadata": {},
   "outputs": [
    {
     "name": "stdout",
     "output_type": "stream",
     "text": [
      "Looking in indexes: http://mirrors.aliyun.com/pypi/simple/\n",
      "Collecting openai==v0.28.1\n",
      "  Downloading http://mirrors.aliyun.com/pypi/packages/1e/9f/385c25502f437686e4aa715969e5eaf5c2cb5e5ffa7c5cdd52f3c6ae967a/openai-0.28.1-py3-none-any.whl (76 kB)\n",
      "\u001b[2K     \u001b[90m━━━━━━━━━━━━━━━━━━━━━━━━━━━━━━━━━━━━━━━\u001b[0m \u001b[32m77.0/77.0 kB\u001b[0m \u001b[31m434.1 kB/s\u001b[0m eta \u001b[36m0:00:00\u001b[0ma \u001b[36m0:00:01\u001b[0m\n",
      "\u001b[?25hRequirement already satisfied: requests>=2.20 in /home/psbc/.pyenv/versions/3.10.12/lib/python3.10/site-packages (from openai==v0.28.1) (2.32.2)\n",
      "Requirement already satisfied: tqdm in /home/psbc/.pyenv/versions/3.10.12/lib/python3.10/site-packages (from openai==v0.28.1) (4.66.4)\n",
      "Requirement already satisfied: aiohttp in /home/psbc/.pyenv/versions/3.10.12/lib/python3.10/site-packages (from openai==v0.28.1) (3.9.5)\n",
      "Requirement already satisfied: charset-normalizer<4,>=2 in /home/psbc/.pyenv/versions/3.10.12/lib/python3.10/site-packages (from requests>=2.20->openai==v0.28.1) (3.3.2)\n",
      "Requirement already satisfied: idna<4,>=2.5 in /home/psbc/.pyenv/versions/3.10.12/lib/python3.10/site-packages (from requests>=2.20->openai==v0.28.1) (3.7)\n",
      "Requirement already satisfied: urllib3<3,>=1.21.1 in /home/psbc/.pyenv/versions/3.10.12/lib/python3.10/site-packages (from requests>=2.20->openai==v0.28.1) (2.2.1)\n",
      "Requirement already satisfied: certifi>=2017.4.17 in /home/psbc/.pyenv/versions/3.10.12/lib/python3.10/site-packages (from requests>=2.20->openai==v0.28.1) (2024.2.2)\n",
      "Requirement already satisfied: aiosignal>=1.1.2 in /home/psbc/.pyenv/versions/3.10.12/lib/python3.10/site-packages (from aiohttp->openai==v0.28.1) (1.3.1)\n",
      "Requirement already satisfied: attrs>=17.3.0 in /home/psbc/.pyenv/versions/3.10.12/lib/python3.10/site-packages (from aiohttp->openai==v0.28.1) (23.2.0)\n",
      "Requirement already satisfied: frozenlist>=1.1.1 in /home/psbc/.pyenv/versions/3.10.12/lib/python3.10/site-packages (from aiohttp->openai==v0.28.1) (1.4.1)\n",
      "Requirement already satisfied: multidict<7.0,>=4.5 in /home/psbc/.pyenv/versions/3.10.12/lib/python3.10/site-packages (from aiohttp->openai==v0.28.1) (6.0.5)\n",
      "Requirement already satisfied: yarl<2.0,>=1.0 in /home/psbc/.pyenv/versions/3.10.12/lib/python3.10/site-packages (from aiohttp->openai==v0.28.1) (1.9.4)\n",
      "Requirement already satisfied: async-timeout<5.0,>=4.0 in /home/psbc/.pyenv/versions/3.10.12/lib/python3.10/site-packages (from aiohttp->openai==v0.28.1) (4.0.3)\n",
      "Installing collected packages: openai\n",
      "  Attempting uninstall: openai\n",
      "    Found existing installation: openai 1.30.5\n",
      "    Uninstalling openai-1.30.5:\n",
      "      Successfully uninstalled openai-1.30.5\n",
      "Successfully installed openai-0.28.1\n",
      "Note: you may need to restart the kernel to use updated packages.\n"
     ]
    }
   ],
   "source": [
    "pip install openai==v0.28.1 -i http://mirrors.aliyun.com/pypi/simple/ --trusted-host mirrors.aliyun.com\n"
   ]
  },
  {
   "cell_type": "code",
   "execution_count": null,
   "metadata": {},
   "outputs": [],
   "source": []
  },
  {
   "cell_type": "code",
   "execution_count": 1,
   "metadata": {},
   "outputs": [
    {
     "name": "stdout",
     "output_type": "stream",
     "text": [
      "<module 'openai' from '/home/psbc/.pyenv/versions/3.10.12/lib/python3.10/site-packages/openai/__init__.py'>\n"
     ]
    }
   ],
   "source": [
    "import openai\n",
    "import os\n",
    "print(openai)"
   ]
  }
 ],
 "metadata": {
  "kernelspec": {
   "display_name": "Python 3",
   "language": "python",
   "name": "python3"
  },
  "language_info": {
   "codemirror_mode": {
    "name": "ipython",
    "version": 3
   },
   "file_extension": ".py",
   "mimetype": "text/x-python",
   "name": "python",
   "nbconvert_exporter": "python",
   "pygments_lexer": "ipython3",
   "version": "3.10.12"
  }
 },
 "nbformat": 4,
 "nbformat_minor": 2
}
